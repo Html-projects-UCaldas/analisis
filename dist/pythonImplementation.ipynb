{
 "metadata": {
  "language_info": {
   "codemirror_mode": {
    "name": "ipython",
    "version": 3
   },
   "file_extension": ".py",
   "mimetype": "text/x-python",
   "name": "python",
   "nbconvert_exporter": "python",
   "pygments_lexer": "ipython3",
   "version": "3.8.6"
  },
  "orig_nbformat": 2,
  "kernelspec": {
   "name": "python386jvsc74a57bd02cbeb91a47ab7fe47121ae47c43d3d58f18ea4012593dff9773915f840fd0eb9",
   "display_name": "Python 3.8.6 64-bit"
  },
  "metadata": {
   "interpreter": {
    "hash": "2cbeb91a47ab7fe47121ae47c43d3d58f18ea4012593dff9773915f840fd0eb9"
   }
  }
 },
 "nbformat": 4,
 "nbformat_minor": 2,
 "cells": [
  {
   "cell_type": "code",
   "execution_count": 2,
   "metadata": {},
   "outputs": [
    {
     "output_type": "stream",
     "name": "stdout",
     "text": [
      "24\n"
     ]
    }
   ],
   "source": [
    "def factorialRecursivo(n):\n",
    "    f = 0\n",
    "    if n == 0 or n == 1:\n",
    "        f = 1\n",
    "        return f\n",
    "    else:\n",
    "        f = n * factorialRecursivo(n -1)\n",
    "        return f\n",
    "print(factorialRecursivo(4))"
   ]
  },
  {
   "cell_type": "code",
   "execution_count": null,
   "metadata": {},
   "outputs": [],
   "source": []
  }
 ]
}